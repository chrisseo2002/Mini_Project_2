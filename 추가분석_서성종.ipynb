{
 "cells": [
  {
   "cell_type": "markdown",
   "metadata": {},
   "source": [
    "## 첫 시험 성적과 성적상승량의 관계"
   ]
  },
  {
   "cell_type": "code",
   "execution_count": 1,
   "metadata": {},
   "outputs": [],
   "source": [
    "import pandas as pd\n",
    "import numpy as np\n",
    "import matplotlib.pyplot as plt\n",
    "import seaborn as sns\n",
    "import scipy.stats as spst\n"
   ]
  },
  {
   "cell_type": "code",
   "execution_count": 2,
   "metadata": {},
   "outputs": [],
   "source": [
    "file = 'toeic_preprocessed_data.csv'\n",
    "base_data = pd.read_csv(file)"
   ]
  },
  {
   "cell_type": "code",
   "execution_count": 6,
   "metadata": {},
   "outputs": [],
   "source": [
    "plt.rc('font', family='Malgun Gothic')\n",
    "plt.rcParams['axes.unicode_minus'] = False"
   ]
  },
  {
   "cell_type": "code",
   "execution_count": 3,
   "metadata": {},
   "outputs": [
    {
     "data": {
      "image/png": "[encoded data removed]",
      "text/plain": [
       "<Figure size 640x480 with 1 Axes>"
      ]
     },
     "metadata": {},
     "output_type": "display_data"
    }
   ],
   "source": [
    "plt.hist(x = base_data['1st_Total_Score'], edgecolor = 'w')\n",
    "plt.show()"
   ]
  },
  {
   "cell_type": "code",
   "execution_count": 4,
   "metadata": {},
   "outputs": [
    {
     "data": {
      "text/html": [
       "<div>\n",
       "<style scoped>\n",
       "    .dataframe tbody tr th:only-of-type {\n",
       "        vertical-align: middle;\n",
       "    }\n",
       "\n",
       "    .dataframe tbody tr th {\n",
       "        vertical-align: top;\n",
       "    }\n",
       "\n",
       "    .dataframe thead th {\n",
       "        text-align: right;\n",
       "    }\n",
       "</style>\n",
       "<table border=\"1\" class=\"dataframe\">\n",
       "  <thead>\n",
       "    <tr style=\"text-align: right;\">\n",
       "      <th></th>\n",
       "      <th>ID</th>\n",
       "      <th>Gender</th>\n",
       "      <th>Birth_Year</th>\n",
       "      <th>3rd_LC_Score</th>\n",
       "      <th>3rd_RC_Score</th>\n",
       "      <th>3rd_Total_Score</th>\n",
       "      <th>학습목표</th>\n",
       "      <th>학습방법</th>\n",
       "      <th>강의 학습 교재 유형</th>\n",
       "      <th>학습빈도</th>\n",
       "      <th>...</th>\n",
       "      <th>취약분야 인지 여부</th>\n",
       "      <th>토익 모의테스트 횟수</th>\n",
       "      <th>1st_LC_Score</th>\n",
       "      <th>1st_RC_Score</th>\n",
       "      <th>1st_Total_Score</th>\n",
       "      <th>2nd_LC_Score</th>\n",
       "      <th>2nd_RC_Score</th>\n",
       "      <th>2nd_Total_Score</th>\n",
       "      <th>Score_diff_total</th>\n",
       "      <th>1st_score_group</th>\n",
       "    </tr>\n",
       "  </thead>\n",
       "  <tbody>\n",
       "    <tr>\n",
       "      <th>0</th>\n",
       "      <td>1</td>\n",
       "      <td>M</td>\n",
       "      <td>1973</td>\n",
       "      <td>345</td>\n",
       "      <td>336</td>\n",
       "      <td>681</td>\n",
       "      <td>승진</td>\n",
       "      <td>온라인강의</td>\n",
       "      <td>영상 교재</td>\n",
       "      <td>주5-6회</td>\n",
       "      <td>...</td>\n",
       "      <td>알고 있음</td>\n",
       "      <td>10</td>\n",
       "      <td>181</td>\n",
       "      <td>173</td>\n",
       "      <td>354</td>\n",
       "      <td>227</td>\n",
       "      <td>213</td>\n",
       "      <td>440</td>\n",
       "      <td>241</td>\n",
       "      <td>300점 대</td>\n",
       "    </tr>\n",
       "    <tr>\n",
       "      <th>1</th>\n",
       "      <td>2</td>\n",
       "      <td>F</td>\n",
       "      <td>1982</td>\n",
       "      <td>380</td>\n",
       "      <td>368</td>\n",
       "      <td>748</td>\n",
       "      <td>승진</td>\n",
       "      <td>온라인강의</td>\n",
       "      <td>뉴스/이슈 기반 교재</td>\n",
       "      <td>주5-6회</td>\n",
       "      <td>...</td>\n",
       "      <td>알고 있음</td>\n",
       "      <td>14</td>\n",
       "      <td>330</td>\n",
       "      <td>290</td>\n",
       "      <td>620</td>\n",
       "      <td>354</td>\n",
       "      <td>339</td>\n",
       "      <td>693</td>\n",
       "      <td>55</td>\n",
       "      <td>600점 대</td>\n",
       "    </tr>\n",
       "    <tr>\n",
       "      <th>2</th>\n",
       "      <td>3</td>\n",
       "      <td>F</td>\n",
       "      <td>1995</td>\n",
       "      <td>416</td>\n",
       "      <td>382</td>\n",
       "      <td>798</td>\n",
       "      <td>자기계발</td>\n",
       "      <td>참고서</td>\n",
       "      <td>일반적인 영어 텍스트 기반 교재</td>\n",
       "      <td>주1-2회</td>\n",
       "      <td>...</td>\n",
       "      <td>알고 있음</td>\n",
       "      <td>4</td>\n",
       "      <td>367</td>\n",
       "      <td>309</td>\n",
       "      <td>676</td>\n",
       "      <td>396</td>\n",
       "      <td>365</td>\n",
       "      <td>761</td>\n",
       "      <td>37</td>\n",
       "      <td>600점 대</td>\n",
       "    </tr>\n",
       "    <tr>\n",
       "      <th>3</th>\n",
       "      <td>4</td>\n",
       "      <td>M</td>\n",
       "      <td>1987</td>\n",
       "      <td>495</td>\n",
       "      <td>397</td>\n",
       "      <td>892</td>\n",
       "      <td>승진</td>\n",
       "      <td>온라인강의</td>\n",
       "      <td>뉴스/이슈 기반 교재</td>\n",
       "      <td>주3-4회</td>\n",
       "      <td>...</td>\n",
       "      <td>알고 있음</td>\n",
       "      <td>8</td>\n",
       "      <td>470</td>\n",
       "      <td>285</td>\n",
       "      <td>755</td>\n",
       "      <td>495</td>\n",
       "      <td>341</td>\n",
       "      <td>836</td>\n",
       "      <td>56</td>\n",
       "      <td>700점 대</td>\n",
       "    </tr>\n",
       "    <tr>\n",
       "      <th>4</th>\n",
       "      <td>5</td>\n",
       "      <td>M</td>\n",
       "      <td>1994</td>\n",
       "      <td>398</td>\n",
       "      <td>437</td>\n",
       "      <td>835</td>\n",
       "      <td>자기계발</td>\n",
       "      <td>온라인강의</td>\n",
       "      <td>영상 교재</td>\n",
       "      <td>주3-4회</td>\n",
       "      <td>...</td>\n",
       "      <td>알고 있음</td>\n",
       "      <td>4</td>\n",
       "      <td>273</td>\n",
       "      <td>372</td>\n",
       "      <td>645</td>\n",
       "      <td>314</td>\n",
       "      <td>426</td>\n",
       "      <td>740</td>\n",
       "      <td>95</td>\n",
       "      <td>600점 대</td>\n",
       "    </tr>\n",
       "  </tbody>\n",
       "</table>\n",
       "<p>5 rows × 21 columns</p>\n",
       "</div>"
      ],
      "text/plain": [
       "   ID Gender  Birth_Year  3rd_LC_Score  3rd_RC_Score  3rd_Total_Score  학습목표  \\\n",
       "0   1      M        1973           345           336              681    승진   \n",
       "1   2      F        1982           380           368              748    승진   \n",
       "2   3      F        1995           416           382              798  자기계발   \n",
       "3   4      M        1987           495           397              892    승진   \n",
       "4   5      M        1994           398           437              835  자기계발   \n",
       "\n",
       "    학습방법        강의 학습 교재 유형   학습빈도  ...  취약분야 인지 여부 토익 모의테스트 횟수  1st_LC_Score  \\\n",
       "0  온라인강의              영상 교재  주5-6회  ...       알고 있음          10           181   \n",
       "1  온라인강의        뉴스/이슈 기반 교재  주5-6회  ...       알고 있음          14           330   \n",
       "2    참고서  일반적인 영어 텍스트 기반 교재  주1-2회  ...       알고 있음           4           367   \n",
       "3  온라인강의        뉴스/이슈 기반 교재  주3-4회  ...       알고 있음           8           470   \n",
       "4  온라인강의              영상 교재  주3-4회  ...       알고 있음           4           273   \n",
       "\n",
       "   1st_RC_Score  1st_Total_Score  2nd_LC_Score  2nd_RC_Score  2nd_Total_Score  \\\n",
       "0           173              354           227           213              440   \n",
       "1           290              620           354           339              693   \n",
       "2           309              676           396           365              761   \n",
       "3           285              755           495           341              836   \n",
       "4           372              645           314           426              740   \n",
       "\n",
       "   Score_diff_total  1st_score_group  \n",
       "0               241           300점 대  \n",
       "1                55           600점 대  \n",
       "2                37           600점 대  \n",
       "3                56           700점 대  \n",
       "4                95           600점 대  \n",
       "\n",
       "[5 rows x 21 columns]"
      ]
     },
     "execution_count": 4,
     "metadata": {},
     "output_type": "execute_result"
    }
   ],
   "source": [
    "bins = [-np.inf, 299, 399, 499, 599, 699, 799, np.inf]\n",
    "\n",
    "## labels: 각 구간에 붙일 라벨\n",
    "## 코드 입력\n",
    "labels = ['300점 미만', '300점 대', '400점 대', '500점 대', '600점 대', '700점 대', '800점 이상']\n",
    "\n",
    "## cut 함수 사용\n",
    "## 코드 입력\n",
    "base_data['1st_score_group'] = pd.cut(base_data['1st_Total_Score'],bins=bins,labels=labels)\n",
    "\n",
    "## 데이터 확인\n",
    "base_data.head()"
   ]
  },
  {
   "cell_type": "code",
   "execution_count": 7,
   "metadata": {},
   "outputs": [
    {
     "data": {
      "image/png": "[encoded data removed]",
      "text/plain": [
       "<Figure size 640x480 with 1 Axes>"
      ]
     },
     "metadata": {},
     "output_type": "display_data"
    }
   ],
   "source": [
    "sns.barplot(x = '1st_score_group', y = 'Score_diff_total', data = base_data)\n",
    "plt.grid()\n",
    "plt.show()"
   ]
  },
  {
   "cell_type": "code",
   "execution_count": 8,
   "metadata": {},
   "outputs": [
    {
     "data": {
      "text/plain": [
       "F_onewayResult(statistic=3.221971454973718, pvalue=0.004098264050357915)"
      ]
     },
     "execution_count": 8,
     "metadata": {},
     "output_type": "execute_result"
    }
   ],
   "source": [
    "target = 'Score_diff_total'\n",
    "feature = '1st_score_group'\n",
    "\n",
    "d1 = base_data.loc[base_data[feature] == base_data[feature].value_counts().index[0], target]\n",
    "d2 = base_data.loc[base_data[feature] == base_data[feature].value_counts().index[1], target]\n",
    "d3 = base_data.loc[base_data[feature] == base_data[feature].value_counts().index[2], target]\n",
    "d4 = base_data.loc[base_data[feature] == base_data[feature].value_counts().index[3], target]\n",
    "d5 = base_data.loc[base_data[feature] == base_data[feature].value_counts().index[4], target]\n",
    "d6 = base_data.loc[base_data[feature] == base_data[feature].value_counts().index[5], target]\n",
    "d7 = base_data.loc[base_data[feature] == base_data[feature].value_counts().index[6], target]\n",
    "\n",
    "spst.f_oneway(d1, d2, d3, d4, d5, d6, d7)"
   ]
  },
  {
   "cell_type": "markdown",
   "metadata": {},
   "source": [
    "#### -> 첫 시험의 점수 대와 점수 상승량에 대한 상관관계를 살펴보았으나 유의미한 상관관계를 갖지 않는다."
   ]
  }
 ],
 "metadata": {
  "kernelspec": {
   "display_name": "base",
   "language": "python",
   "name": "python3"
  },
  "language_info": {
   "codemirror_mode": {
    "name": "ipython",
    "version": 3
   },
   "file_extension": ".py",
   "mimetype": "text/x-python",
   "name": "python",
   "nbconvert_exporter": "python",
   "pygments_lexer": "ipython3",
   "version": "3.11.3"
  },
  "orig_nbformat": 4
 },
 "nbformat": 4,
 "nbformat_minor": 2
}
